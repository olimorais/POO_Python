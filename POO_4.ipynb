{
  "nbformat": 4,
  "nbformat_minor": 0,
  "metadata": {
    "colab": {
      "provenance": [],
      "authorship_tag": "ABX9TyNyV9eyt3OA9f0qddlBPAZB",
      "include_colab_link": true
    },
    "kernelspec": {
      "name": "python3",
      "display_name": "Python 3"
    },
    "language_info": {
      "name": "python"
    }
  },
  "cells": [
    {
      "cell_type": "markdown",
      "metadata": {
        "id": "view-in-github",
        "colab_type": "text"
      },
      "source": [
        "<a href=\"https://colab.research.google.com/github/olimorais/POO_Python/blob/main/POO_4.ipynb\" target=\"_parent\"><img src=\"https://colab.research.google.com/assets/colab-badge.svg\" alt=\"Open In Colab\"/></a>"
      ]
    },
    {
      "cell_type": "markdown",
      "source": [
        "# Herança e Polimorfismo\n",
        "\n",
        "\n",
        "Nessa aula, trataremos dos dois últimos tópicos importantes em programação orientada a objeto, são eles herença e polimorfismo.\n",
        "\n",
        "Imagine que você tenha várias classes com os mesmos atributos, os mesmos métodos e mesmos parâmetros. Reescrevê-los varias vezes é desperdício de tempo! ALém disso, se precisarmos atualizar o método, precisaremos fazer as modificações multiplas vezes.\n",
        "\n",
        "Então para solucionar essa questão temos os conceitos de **herança** e **polimorfismo**.\n",
        "\n",
        "---\n",
        "Problema Gerador: É possível criar classes derivadas das classes já desenvolvidas anteriormente?\n"
      ],
      "metadata": {
        "id": "9mZru6vfvhMu"
      }
    },
    {
      "cell_type": "markdown",
      "source": [
        "### Herança\n",
        "\n",
        "É  possível criar **classes filhas** que **herdam** atributos e métodos de uma **classe mãe**.\n",
        "\n",
        "Para herdar colocamos o nome da classe mãe entre parênteses na frente da classe filha, em sua definição.\n",
        "\n",
        "Se necessário, podemos redefinir um método na classe filha!\n",
        "\n"
      ],
      "metadata": {
        "id": "ciWl4k7jxriG"
      }
    },
    {
      "cell_type": "code",
      "source": [
        "class Animal:\n",
        "  def __init__(self, nome):\n",
        "    self.nome = nome\n",
        "\n",
        "  def fala(self):\n",
        "    print(f\"{self.nome} faz barulho\")"
      ],
      "metadata": {
        "id": "jyJAmbqK0RUx"
      },
      "execution_count": null,
      "outputs": []
    },
    {
      "cell_type": "code",
      "source": [
        "a1 = Animal('Grilo')\n",
        "\n",
        "a1.fala()"
      ],
      "metadata": {
        "colab": {
          "base_uri": "https://localhost:8080/"
        },
        "id": "dA9vz1tv1MXd",
        "outputId": "3272c4c9-91c4-49d4-c609-2d83dabf506a"
      },
      "execution_count": null,
      "outputs": [
        {
          "output_type": "stream",
          "name": "stdout",
          "text": [
            "Grilo faz barulho\n"
          ]
        }
      ]
    },
    {
      "cell_type": "markdown",
      "source": [
        "Agora, imagine que eu queora criar uma nova classe Cachorro. O que é melhor: criar uma nova classe Cachrro e que tem os mesmos atributos da classe Animal? Ou a partir da classe Animal, criar uma classe filha cachorro que herde os atributos da classe mãe?\n",
        "\n",
        "A  melhor prática em programação é a última opção! Porque com o conceito de herença, trataremos de classe mãe e classes filhas! O que tem na classe mãe será herdado para a classe filha.\n",
        "\n",
        "A definição de uma classe filha é:\n",
        "\n",
        "    class NomeClasseFilha(NomeClasseMae):\n",
        "      pass (quer dizer fazer nada!)\n",
        "\n",
        "Vamos implementar de fato essa classe!"
      ],
      "metadata": {
        "id": "XVLePn530_d7"
      }
    },
    {
      "cell_type": "code",
      "source": [
        "class Cachorro(Animal):\n",
        "  pass"
      ],
      "metadata": {
        "id": "8LPPAqFn3QZc"
      },
      "execution_count": null,
      "outputs": []
    },
    {
      "cell_type": "code",
      "source": [
        "c1 = Cachorro('Lisa')\n",
        "c1.fala()"
      ],
      "metadata": {
        "colab": {
          "base_uri": "https://localhost:8080/"
        },
        "id": "w_GYjPkW7Kxo",
        "outputId": "368079f3-7501-4ec4-ad61-65832213d566"
      },
      "execution_count": null,
      "outputs": [
        {
          "output_type": "stream",
          "name": "stdout",
          "text": [
            "Lisa faz barulho\n"
          ]
        }
      ]
    },
    {
      "cell_type": "markdown",
      "source": [
        "Assim, fizemos uma classe filha \"cachorro\", que é uma cópia da classe mãe!\n",
        "\n",
        "Se eu quiser colocar algo diferente na classe Cachorro basta fazer um def específico para esse classe!"
      ],
      "metadata": {
        "id": "Nvd2vABf68Z2"
      }
    },
    {
      "cell_type": "code",
      "source": [
        "class Cachorro(Animal):\n",
        "\n",
        "  def fala (self):\n",
        "    print(f\"{self.nome} faz au au!\")"
      ],
      "metadata": {
        "id": "P4qs4peW7fCQ"
      },
      "execution_count": null,
      "outputs": []
    },
    {
      "cell_type": "code",
      "source": [
        "c2 = Cachorro('Lisa')\n",
        "c2.fala()"
      ],
      "metadata": {
        "colab": {
          "base_uri": "https://localhost:8080/"
        },
        "id": "4iBNRaGc7wXO",
        "outputId": "3158dce5-734c-4590-a021-d709c12507bc"
      },
      "execution_count": null,
      "outputs": [
        {
          "output_type": "stream",
          "name": "stdout",
          "text": [
            "Lisa faz au au!\n"
          ]
        }
      ]
    },
    {
      "cell_type": "markdown",
      "source": [
        "Essa é a ideia da herança!\n",
        "\n",
        "Imagine agora que queremos herdar um método **parcialmente** , com a possibilidade de alterá-lo.\n",
        "\n",
        "Isso é importante, pois se apenas copiassemos o método original, qualquer alteração nela teria que ser feita em todos os locais onde ele é copiado.\n",
        "\n",
        "Para isso, usamos o método **super():**"
      ],
      "metadata": {
        "id": "faCTTFyb8Pl4"
      }
    },
    {
      "cell_type": "code",
      "source": [
        "class Cachorro(Animal):\n",
        "\n",
        "  def __init__(self,nome,raca, cor):\n",
        "\n",
        "    # copiar todo o metodo da classe mae:\n",
        "    super().__init__(nome)\n",
        "\n",
        "    # definições dos outros atributos:\n",
        "    self.raca = raca\n",
        "    self.cor = cor\n",
        "\n",
        "\n",
        "  def fala (self):\n",
        "    # posso herdar tudo do metodo fala também\n",
        "    super().fala()\n",
        "\n",
        "    print(f\"Mas por ser um cachorro, {self.nome} faz au au!\")"
      ],
      "metadata": {
        "id": "TCwH6cQ69zD7"
      },
      "execution_count": null,
      "outputs": []
    },
    {
      "cell_type": "code",
      "source": [
        "c2 = Cachorro('Lisa', 'Lulu', 'Caramelo')\n",
        "c2.fala()"
      ],
      "metadata": {
        "colab": {
          "base_uri": "https://localhost:8080/"
        },
        "id": "CKIt1Ixn_DJY",
        "outputId": "7772b9e6-644f-4861-a5d8-e53f72756d1c"
      },
      "execution_count": null,
      "outputs": [
        {
          "output_type": "stream",
          "name": "stdout",
          "text": [
            "Lisa faz barulho\n",
            "Mas por ser um cachorro, Lisa faz au au!\n"
          ]
        }
      ]
    },
    {
      "cell_type": "markdown",
      "source": [
        "### Polimorfismo\n",
        "\n",
        "Do grego, \"várias formas\" .\n",
        "\n",
        "A ideia é que um objeto de uma certa classe pode se comportar como objeto de outras classes.\n",
        "\n",
        "Mais específicamente, **objetos de uma classe filha podem ser tratados como se pertecessem a classe mãe**.\n",
        "\n",
        "O método **isinstance** recebe dois parâmetros: um objeto e uma classe. Ele retorna True caso o objeto pertence à classe e False caso não pertença. (Check de instanciação!)\n",
        "\n"
      ],
      "metadata": {
        "id": "uNiYQWDf_VTQ"
      }
    },
    {
      "cell_type": "markdown",
      "source": [
        "Isso é útil porque uma função que seja feita para lidar com Animal será capaz de lidar com qualquer classe herdeira de Animal com a mesma facilidade."
      ],
      "metadata": {
        "id": "OEdXT1BPBn2x"
      }
    },
    {
      "cell_type": "code",
      "source": [
        "c2 = Cachorro('Lisa', 'Lulu', 'Caramelo')\n"
      ],
      "metadata": {
        "id": "gxHVHauiCsAn"
      },
      "execution_count": null,
      "outputs": []
    },
    {
      "cell_type": "code",
      "source": [
        "isinstance(c2, Cachorro)"
      ],
      "metadata": {
        "colab": {
          "base_uri": "https://localhost:8080/"
        },
        "id": "9wruFhHTCx4q",
        "outputId": "98dc6a05-0d5d-4400-c46b-df851337ceac"
      },
      "execution_count": null,
      "outputs": [
        {
          "output_type": "execute_result",
          "data": {
            "text/plain": [
              "True"
            ]
          },
          "metadata": {},
          "execution_count": 17
        }
      ]
    },
    {
      "cell_type": "code",
      "source": [
        "isinstance(c2,Animal)"
      ],
      "metadata": {
        "colab": {
          "base_uri": "https://localhost:8080/"
        },
        "id": "SAuM9HqiC4i5",
        "outputId": "2efa9b68-ac5a-42dc-e660-dfe6abb9fd97"
      },
      "execution_count": null,
      "outputs": [
        {
          "output_type": "execute_result",
          "data": {
            "text/plain": [
              "True"
            ]
          },
          "metadata": {},
          "execution_count": 18
        }
      ]
    },
    {
      "cell_type": "markdown",
      "source": [
        "Polimorfismo tem essa ideia de hierarquia, como uma matrioska! Conexão de cima para baixo, mas não tem relação lateralmente. Por exemplo, eu tenha duas classes filhas, a Cachorro e a Gato. Ambos são herdeiras da classe mãe Animal. Elas são \"irmãs\" mas não tem relação  de uma com a outra!\n",
        "\n"
      ],
      "metadata": {
        "id": "6YaxPfGEDHFk"
      }
    },
    {
      "cell_type": "markdown",
      "source": [],
      "metadata": {
        "id": "Ckz21kzHsFeP"
      }
    },
    {
      "cell_type": "code",
      "source": [
        "def elementos_repetidos(lista):\n",
        "    contagem_temperaturas = {}\n",
        "\n",
        "    # Preenche o dicionário com a contagem de cada temperatura\n",
        "    for temperatura in lista:\n",
        "        contagem_temperaturas[temperatura] = contagem_temperaturas.get(temperatura, 0) + 1\n",
        "\n",
        "    # Encontra a quantidade de temperaturas repetidas\n",
        "    quantidade_repetidas = sum(contagem > 1 for contagem in contagem_temperaturas.values())\n",
        "\n",
        "    # Retorna a mensagem apropriada\n",
        "    if quantidade_repetidas > 0:\n",
        "        return f\"Sim, existem {quantidade_repetidas} dias com temperatura média repetida.\"\n",
        "    else:\n",
        "        return f\"Não, não existem dias com temperatura média repetida.\"\n"
      ],
      "metadata": {
        "id": "pH0WR9JtsGBO"
      },
      "execution_count": null,
      "outputs": []
    },
    {
      "cell_type": "code",
      "source": [
        "lista = [\n",
        "  30.5,\n",
        "  30,\n",
        "  29.5,\n",
        "  30,\n",
        "  30.5,\n",
        "  31,\n",
        "  30\n",
        "]"
      ],
      "metadata": {
        "id": "WuBHfNCjsNzF"
      },
      "execution_count": null,
      "outputs": []
    },
    {
      "cell_type": "code",
      "source": [
        " elementos_repetidos(lista)"
      ],
      "metadata": {
        "colab": {
          "base_uri": "https://localhost:8080/",
          "height": 35
        },
        "id": "5AVDg7TQsS3H",
        "outputId": "848717ef-4e6d-4d00-c543-4d04f4c510e8"
      },
      "execution_count": null,
      "outputs": [
        {
          "output_type": "execute_result",
          "data": {
            "text/plain": [
              "'Sim, existem 2 dias com temperatura média repetida.'"
            ],
            "application/vnd.google.colaboratory.intrinsic+json": {
              "type": "string"
            }
          },
          "metadata": {},
          "execution_count": 4
        }
      ]
    }
  ]
}