{
  "nbformat": 4,
  "nbformat_minor": 0,
  "metadata": {
    "colab": {
      "provenance": [],
      "authorship_tag": "ABX9TyOTKP7EELMLHVERwxkvwIc3",
      "include_colab_link": true
    },
    "kernelspec": {
      "name": "python3",
      "display_name": "Python 3"
    },
    "language_info": {
      "name": "python"
    }
  },
  "cells": [
    {
      "cell_type": "markdown",
      "metadata": {
        "id": "view-in-github",
        "colab_type": "text"
      },
      "source": [
        "<a href=\"https://colab.research.google.com/github/olimorais/POO_Python/blob/main/POO_2.ipynb\" target=\"_parent\"><img src=\"https://colab.research.google.com/assets/colab-badge.svg\" alt=\"Open In Colab\"/></a>"
      ]
    },
    {
      "cell_type": "markdown",
      "source": [
        "Exemplos para fixar os conceitos de classe, métodos, atributos e objetos."
      ],
      "metadata": {
        "id": "TjAE7nuqz5YF"
      }
    },
    {
      "cell_type": "code",
      "source": [
        "# criar a classe Pessoa\n",
        "\n",
        "class Pessoa:\n",
        "\n",
        "  # método construtor\n",
        "\n",
        "  def __init__(self, name, age, res): # (self, x,y,z)-> somente o self é obrigatório, as outras variiáveis podem ter nomes diversos\n",
        "\n",
        "    # inicializar os atributos de classe (variaveis que caracterizam o objeto da nossa classe)\n",
        "    self.nome = name\n",
        "    self.idade = age\n",
        "    self.cidade = res\n",
        "\n",
        "# assim, a classe fica dinâmica"
      ],
      "metadata": {
        "id": "qmpMExmP1mlr"
      },
      "execution_count": null,
      "outputs": []
    },
    {
      "cell_type": "code",
      "source": [
        "# instanciar a classe = criar objeto\n",
        "# para isso devemos chamar a classe\n",
        "\n",
        "objeto_pessoa = Pessoa ('Ana', 34, 'SP')\n",
        "print(objeto_pessoa)\n"
      ],
      "metadata": {
        "colab": {
          "base_uri": "https://localhost:8080/"
        },
        "id": "nKDyneZV3EwB",
        "outputId": "5c5404bb-3acd-4f4e-d30d-899cd38b7356"
      },
      "execution_count": null,
      "outputs": [
        {
          "output_type": "stream",
          "name": "stdout",
          "text": [
            "<__main__.Pessoa object at 0x7a5630d5ff10>\n"
          ]
        }
      ]
    },
    {
      "cell_type": "code",
      "source": [
        "# para acessar o valor, fazemos sempre\n",
        "# variavel_criada.\"atributos\" ou seja : \"objeto.atributo\"\n",
        "\n",
        "print(objeto_pessoa.nome)\n",
        "print(objeto_pessoa.idade)\n",
        "print(objeto_pessoa.cidade)\n",
        "\n"
      ],
      "metadata": {
        "colab": {
          "base_uri": "https://localhost:8080/"
        },
        "id": "ekHEE8Hc3uNU",
        "outputId": "f1d7c90b-1838-416e-a23e-7297265db656"
      },
      "execution_count": null,
      "outputs": [
        {
          "output_type": "stream",
          "name": "stdout",
          "text": [
            "Ana\n",
            "34\n",
            "SP\n"
          ]
        }
      ]
    },
    {
      "cell_type": "markdown",
      "source": [
        "**Os atributos são completamente mutáveis!**"
      ],
      "metadata": {
        "id": "FEHCM74j4oQq"
      }
    },
    {
      "cell_type": "code",
      "source": [
        "objeto_pessoa.cidade = 'Londres'\n",
        "print(objeto_pessoa.cidade)"
      ],
      "metadata": {
        "colab": {
          "base_uri": "https://localhost:8080/"
        },
        "id": "Fw7Bge6J4sBV",
        "outputId": "baae86ea-7f7c-4fdd-85de-143b00fe8563"
      },
      "execution_count": null,
      "outputs": [
        {
          "output_type": "stream",
          "name": "stdout",
          "text": [
            "Londres\n"
          ]
        }
      ]
    }
  ]
}