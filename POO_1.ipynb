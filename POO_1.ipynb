{
  "nbformat": 4,
  "nbformat_minor": 0,
  "metadata": {
    "colab": {
      "provenance": [],
      "authorship_tag": "ABX9TyO+1ZfOjy5ZAiGYhOjBk2g9",
      "include_colab_link": true
    },
    "kernelspec": {
      "name": "python3",
      "display_name": "Python 3"
    },
    "language_info": {
      "name": "python"
    }
  },
  "cells": [
    {
      "cell_type": "markdown",
      "metadata": {
        "id": "view-in-github",
        "colab_type": "text"
      },
      "source": [
        "<a href=\"https://colab.research.google.com/github/olimorais/POO_Python/blob/main/POO_1.ipynb\" target=\"_parent\"><img src=\"https://colab.research.google.com/assets/colab-badge.svg\" alt=\"Open In Colab\"/></a>"
      ]
    },
    {
      "cell_type": "markdown",
      "source": [
        "# Programação Orientada a Objeto (POO) com Python\n",
        "\n",
        "\n",
        "Agora vamos explorar os seguintes tópicos em python:\n",
        "\n",
        "* Programação orientada a objeto.\n",
        "* Classes, atributos, objetos e métodos.\n",
        "\n",
        "---\n",
        "Problema gerador: como representar uma pessoa em um jogo eletrônico?\n",
        "\n",
        "Precisamos de uma estrutura pra armazenar todas as informações e ações de um personagem de um jogo. Como fazer isso?\n"
      ],
      "metadata": {
        "id": "330xDgSKpVIr"
      }
    },
    {
      "cell_type": "markdown",
      "source": [
        "# 1) Programação orientada a objetos\n",
        "\n",
        "O python é uma linguagem de **programação orientada a objetos (POO**). Outros linguagens também tem essa características, como: Java, C++, etc.\n",
        "\n",
        "Esta classificação é uma dos chamados \"paradigmas de programação\". Isso porque uma linguagem de **POO** é fundamentalmente diferente de linguagens de outros paradigmas.\n",
        "\n",
        "A grande sacada de uma linguagem POO é a **reutilização de códigos!**\n",
        "\n",
        "\n",
        "Os programas devem ser **modularizados**, de modo que diferentes pessoas possam implementar módulos diferentes e juntá-los ao final, e reaporveitar modulos diferentes.\n",
        "\n",
        "Dentro de POO, tudo isso é feito de acordo com as seguintes **entidades**:\n",
        "\n",
        "* **Classes:**\n",
        "\n",
        "      As classes são os \"moldes\" dos objetos, as entidades abstratas.\n",
        "      Elas contêm as informações e os comportamentos que os objetos terão.\n",
        "      Todos os objetos pertencentes a uma mesma classe terão características\n",
        "      em comum. Ex: Pessoa.\n",
        "\n",
        "* **Objetos:**\n",
        "\n",
        "      Os objetos são as instâncias concretas das classes, que são abstratas.\n",
        "      Os objetos contêm as características comuns à classe, mas cada um\n",
        "      tem suas particularidades. Ex: você!\n",
        "\n",
        "* **Atributos:**\n",
        "\n",
        "      Cada objeto particular de uma mesma classe tem valores diferentes para\n",
        "      as variáveis internas da classe. Essas \"variáveis do objeto\" chamamos\n",
        "      de atributos. Ex: a cor do seu cabelo.\n",
        "\n",
        "* **Métodos:**\n",
        "\n",
        "      Métodos são funções dentro da classe, que não podem ser executadas\n",
        "      arbitrariamente, mas deverão ser chamadas necessariamente pelos objetos.\n",
        "      Os métodos podem utilizar os atributos e até mesmo alterá-los.\n",
        "      Ex: você pintar seu cabelo para mudar a cor."
      ],
      "metadata": {
        "id": "n6xIsnJA3v2R"
      }
    },
    {
      "cell_type": "markdown",
      "source": [
        "Em POO temos **4 princípios de boas práticas** para criação de entidades:\n",
        "\n",
        "1. **Encapsulamento**:  cada classe deve conter todas as informações necessárias para seu funcionamento, bem como todos os métodos necessários para alterar as informações.\n",
        "\n",
        "2. **Abstração:**  as classes devem apresentar interfaces simples para o uso por outros desenvolvedores e para a interação com outras classes. Todos os detalhes complicados de seu funcionamento devem estar \"escondidos\" dentro de métodos simples de usar, com parâmetros e retornos bem definidos.\n",
        "\n",
        "3. **Herança:** se várias classes terão atributos e métodos em comum, não devemos ter que redigitá-los várias vezes. Ao invés disso, criamos uma classe com esses atributos e métodos comuns e as outras classes irão herdá-los.\n",
        "\n",
        "4. **Polimorfismo:**  objetos de diferentes classes herdeiras de uma mesma classe mãe podem ser tratados genericamente como objetos pertencentes à classe mãe.\n",
        "\n",
        "Vamos agora a exemplos específicos para ilustrar e concretizar todos os conceitos discutidos acima!\n",
        "\n"
      ],
      "metadata": {
        "id": "GzFgdSyT5IJJ"
      }
    },
    {
      "cell_type": "code",
      "source": [],
      "metadata": {
        "id": "gRgpz9fF9idT"
      },
      "execution_count": null,
      "outputs": []
    },
    {
      "cell_type": "markdown",
      "source": [
        "# 2) Classes, Atributos, Objetos e Métodos"
      ],
      "metadata": {
        "id": "cExyPmZY9Ywu"
      }
    },
    {
      "cell_type": "markdown",
      "source": [
        "# 2.1) Classes:\n",
        "\n",
        "\n",
        "Criando uma classe:\n",
        "\n",
        "    class NomeDaClasse:\n",
        "\n",
        "    # método construtor\n",
        "    def __init__(self, atributos)\n",
        "\n",
        "    # definição dos atributos\n",
        "    self.atributos = atributos\n",
        "\n",
        "    # definição de outros métodos\n",
        "    def metodo(self, parametros):\n",
        "\n",
        "      operacoes\n",
        "\n",
        "\n",
        "O **método construtor**  é onde inicializamos alguns atributos que os objetos da classe terão!\n",
        "\n",
        "Os argumentos deste método são obrigatórios para a definição do objeto!\n",
        "\n",
        "* Esse método é opcional, mas é uma boa prática sempre defini-lo!\n",
        "* Sempre que um objeto é criado, este método, é chamado automaticamente"
      ],
      "metadata": {
        "id": "t0Gz50rA6arw"
      }
    },
    {
      "cell_type": "markdown",
      "source": [
        "O **\"self\"** sempre será o primeiro parâmetro dos métodos de uma classe, e ele é necessário **para fazer referência à classe**.\n",
        "\n",
        "Assim, em geral, sempre usaremos dentro dos métodos alguma operação que **faça uso dos atributos da classe**, que é referenciada através do self."
      ],
      "metadata": {
        "id": "bvmx24i78vWb"
      }
    },
    {
      "cell_type": "code",
      "source": [
        "class Pessoa:\n",
        "\n",
        "  def __init__(self, name, age, res):\n",
        "\n",
        "    # iniializar os atributos da classe\n",
        "    self.nome = name\n",
        "    self.idade = age\n",
        "    self.residencia = res"
      ],
      "metadata": {
        "id": "4dgVHYqV88Bs"
      },
      "execution_count": null,
      "outputs": []
    },
    {
      "cell_type": "markdown",
      "source": [
        "# 2.2) Criação de objeto: instanciando uma classe\n",
        "\n",
        "\n",
        "Para criarmos um objeto (instância concreta da classe abstrata), nós fazemos o processo de instanciação, que nada mais é do que chamar a classe, com os argumentos definidos no método construtor."
      ],
      "metadata": {
        "id": "zzUwiSxD9RYy"
      }
    },
    {
      "cell_type": "code",
      "source": [
        "joao = Pessoa(\"João\", 20, \"SP\")"
      ],
      "metadata": {
        "id": "GTVgYgMY9rbc"
      },
      "execution_count": null,
      "outputs": []
    },
    {
      "cell_type": "markdown",
      "source": [
        "Se chamarmos a variável com o objeto, aparece apenas o endereço respectivo ao objeto:"
      ],
      "metadata": {
        "id": "m_z8LKt39zO5"
      }
    },
    {
      "cell_type": "code",
      "source": [
        "joao"
      ],
      "metadata": {
        "colab": {
          "base_uri": "https://localhost:8080/"
        },
        "id": "zwemOcsl9z2r",
        "outputId": "31c86310-b661-4e61-a983-37981d2a36dc"
      },
      "execution_count": null,
      "outputs": [
        {
          "output_type": "execute_result",
          "data": {
            "text/plain": [
              "<__main__.Pessoa at 0x7d83007bc700>"
            ]
          },
          "metadata": {},
          "execution_count": 3
        }
      ]
    },
    {
      "cell_type": "markdown",
      "source": [
        "Mas podemos acessar cada um dos atributos deste objeto, que são aqueles definidos na classe.\n",
        "\n",
        "Para isso, seguimos a sintaxe:\n",
        "\n",
        "    nome_do_objeto.nome_do_atributo"
      ],
      "metadata": {
        "id": "u1xRg3ed93QM"
      }
    },
    {
      "cell_type": "code",
      "source": [
        "joao.nome"
      ],
      "metadata": {
        "colab": {
          "base_uri": "https://localhost:8080/",
          "height": 35
        },
        "id": "5hxnD9q59-Q0",
        "outputId": "7bdfaced-d4c7-43ba-b9c4-ddc21bdac9b3"
      },
      "execution_count": null,
      "outputs": [
        {
          "output_type": "execute_result",
          "data": {
            "text/plain": [
              "'João'"
            ],
            "application/vnd.google.colaboratory.intrinsic+json": {
              "type": "string"
            }
          },
          "metadata": {},
          "execution_count": 4
        }
      ]
    },
    {
      "cell_type": "code",
      "source": [
        "joao.idade"
      ],
      "metadata": {
        "colab": {
          "base_uri": "https://localhost:8080/"
        },
        "id": "6_4BwnlJ-AS0",
        "outputId": "1ac68ae2-3a02-42a1-e953-6d73220857b1"
      },
      "execution_count": null,
      "outputs": [
        {
          "output_type": "execute_result",
          "data": {
            "text/plain": [
              "20"
            ]
          },
          "metadata": {},
          "execution_count": 5
        }
      ]
    },
    {
      "cell_type": "code",
      "source": [
        "joao.residencia"
      ],
      "metadata": {
        "colab": {
          "base_uri": "https://localhost:8080/",
          "height": 35
        },
        "id": "O0wVjCEr-EN6",
        "outputId": "f072bdc9-7b9c-4850-ca35-26dfe69347a3"
      },
      "execution_count": null,
      "outputs": [
        {
          "output_type": "execute_result",
          "data": {
            "text/plain": [
              "'SP'"
            ],
            "application/vnd.google.colaboratory.intrinsic+json": {
              "type": "string"
            }
          },
          "metadata": {},
          "execution_count": 6
        }
      ]
    },
    {
      "cell_type": "markdown",
      "source": [
        "Os atributos são mutáveis! Para mudá-los, basta redefinir novos valores:"
      ],
      "metadata": {
        "id": "eb8jiLHs981V"
      }
    },
    {
      "cell_type": "code",
      "source": [
        "joao.idade += 1"
      ],
      "metadata": {
        "id": "EpXvMYzi-I_z"
      },
      "execution_count": null,
      "outputs": []
    },
    {
      "cell_type": "code",
      "source": [
        "joao.idade"
      ],
      "metadata": {
        "colab": {
          "base_uri": "https://localhost:8080/"
        },
        "id": "N9NC-aW5-N1V",
        "outputId": "8cb28bc1-890b-455f-9fbc-654c98413353"
      },
      "execution_count": null,
      "outputs": [
        {
          "output_type": "execute_result",
          "data": {
            "text/plain": [
              "21"
            ]
          },
          "metadata": {},
          "execution_count": 8
        }
      ]
    },
    {
      "cell_type": "code",
      "source": [
        "joao.residencia = 'Londres'\n",
        "print(joao.residencia)"
      ],
      "metadata": {
        "colab": {
          "base_uri": "https://localhost:8080/"
        },
        "id": "gppT1pBm-Q9b",
        "outputId": "ac41ee35-9a87-4855-f372-9281b6563b21"
      },
      "execution_count": null,
      "outputs": [
        {
          "output_type": "stream",
          "name": "stdout",
          "text": [
            "Londres\n"
          ]
        }
      ]
    },
    {
      "cell_type": "code",
      "source": [
        "vars(joao)"
      ],
      "metadata": {
        "colab": {
          "base_uri": "https://localhost:8080/"
        },
        "id": "6VHhg6zB-UQR",
        "outputId": "f87bbaba-784e-470e-9fb4-8cf80261478a"
      },
      "execution_count": null,
      "outputs": [
        {
          "output_type": "execute_result",
          "data": {
            "text/plain": [
              "{'nome': 'João', 'idade': 21, 'residencia': 'Londres'}"
            ]
          },
          "metadata": {},
          "execution_count": 13
        }
      ]
    },
    {
      "cell_type": "markdown",
      "source": [
        "Podemos, também, adicionar novos atributos que não sejam obrigatoriamente definidos na instanciação da classe. Para isso, os inicializamos na classe como vazios:"
      ],
      "metadata": {
        "id": "sjvirZLq-koK"
      }
    },
    {
      "cell_type": "code",
      "source": [
        "class Pessoa:\n",
        "\n",
        "  def __init__(self, name, age, res):\n",
        "\n",
        "    # inicializar os atributos da classe, que terão valores definidos na instanciação\n",
        "    # como argumentos do método construtor\n",
        "    self.nome = name\n",
        "    self.idade = age\n",
        "    self.residencia = res\n",
        "\n",
        "    # inicializar alguns atributos cujos valores são fixados\n",
        "    self.num_filhos = 0\n",
        "    self.profissao = None"
      ],
      "metadata": {
        "id": "ifir0k2o-mao"
      },
      "execution_count": null,
      "outputs": []
    },
    {
      "cell_type": "code",
      "source": [
        "maria = Pessoa(name=\"Maria\", age=18, res=\"Paris\")"
      ],
      "metadata": {
        "id": "bp60HPo8-pQk"
      },
      "execution_count": null,
      "outputs": []
    },
    {
      "cell_type": "code",
      "source": [
        "vars(maria)"
      ],
      "metadata": {
        "colab": {
          "base_uri": "https://localhost:8080/"
        },
        "id": "t3kOEuDs-s3c",
        "outputId": "6d807763-6dc9-41c5-e14f-a0e36b32614b"
      },
      "execution_count": null,
      "outputs": [
        {
          "output_type": "execute_result",
          "data": {
            "text/plain": [
              "{'nome': 'Maria',\n",
              " 'idade': 18,\n",
              " 'residencia': 'Paris',\n",
              " 'num_filhos': 0,\n",
              " 'profissao': None}"
            ]
          },
          "metadata": {},
          "execution_count": 16
        }
      ]
    },
    {
      "cell_type": "code",
      "source": [
        "maria.num_filhos"
      ],
      "metadata": {
        "colab": {
          "base_uri": "https://localhost:8080/"
        },
        "id": "jWSQFZi1-v0F",
        "outputId": "228ea1e3-95fa-4992-f860-b3ed01b19caf"
      },
      "execution_count": null,
      "outputs": [
        {
          "output_type": "execute_result",
          "data": {
            "text/plain": [
              "0"
            ]
          },
          "metadata": {},
          "execution_count": 17
        }
      ]
    },
    {
      "cell_type": "markdown",
      "source": [
        "# 2.3) Métodos da classe: definindo e chamando\n",
        "\n",
        "\n",
        "Os métodos são **funções específicas de uma classe**, que só podem ser usadas após a criação de um objeto instância da classe.\n",
        "\n",
        "Assim, definimos os métodos dentro da classe, fazendo sempre referência à classe e seus atributos através do parâmetro self:"
      ],
      "metadata": {
        "id": "0bpK1kRY-1pH"
      }
    },
    {
      "cell_type": "code",
      "source": [
        "class Pessoa:\n",
        "\n",
        "  def __init__(self, name, age, res):\n",
        "\n",
        "    # inicializar os atributos da classe, que terão valores definidos na instanciação\n",
        "    # como argumentos do método construtor\n",
        "    self.nome = name\n",
        "    self.idade = age\n",
        "    self.residencia = res\n",
        "\n",
        "    # inicializar alguns atributos cujos valores são fixados\n",
        "    self.num_filhos = 0\n",
        "    self.profissao = None\n",
        "\n",
        "  # definindo outros métodos da classe\n",
        "  def __fala__(self, mensagem):\n",
        "    print(f\"{self.nome} diz: '{mensagem}'\")"
      ],
      "metadata": {
        "id": "ssknyIG5--bG"
      },
      "execution_count": null,
      "outputs": []
    },
    {
      "cell_type": "markdown",
      "source": [
        "Chamando o método, após instanciar a classe.\n",
        "\n",
        "Note, que o primeiro argumento do método, o \"self\", **é ignorado**! Ele é apenas usado para referenciair os atributos da classe!"
      ],
      "metadata": {
        "id": "NDP_U2Wm_GwT"
      }
    },
    {
      "cell_type": "code",
      "source": [
        "maria = Pessoa(name=\"Maria\", age=18, res=\"Paris\")"
      ],
      "metadata": {
        "id": "F6Z-5qSB_FvX"
      },
      "execution_count": null,
      "outputs": []
    },
    {
      "cell_type": "code",
      "source": [
        "maria.nome"
      ],
      "metadata": {
        "colab": {
          "base_uri": "https://localhost:8080/",
          "height": 35
        },
        "id": "JtaOtRJd_fDJ",
        "outputId": "6f60ebe5-46ef-4d31-f78e-2b82161fd57d"
      },
      "execution_count": null,
      "outputs": [
        {
          "output_type": "execute_result",
          "data": {
            "text/plain": [
              "'Maria'"
            ],
            "application/vnd.google.colaboratory.intrinsic+json": {
              "type": "string"
            }
          },
          "metadata": {},
          "execution_count": 23
        }
      ]
    },
    {
      "cell_type": "code",
      "source": [
        "maria.fala('Olá')"
      ],
      "metadata": {
        "colab": {
          "base_uri": "https://localhost:8080/",
          "height": 175
        },
        "id": "LUxCh4ebAGjG",
        "outputId": "c2975143-9720-4056-e098-03ea3e91ca1a"
      },
      "execution_count": null,
      "outputs": [
        {
          "output_type": "error",
          "ename": "AttributeError",
          "evalue": "ignored",
          "traceback": [
            "\u001b[0;31m---------------------------------------------------------------------------\u001b[0m",
            "\u001b[0;31mAttributeError\u001b[0m                            Traceback (most recent call last)",
            "\u001b[0;32m<ipython-input-27-9c7c8b0f404f>\u001b[0m in \u001b[0;36m<cell line: 1>\u001b[0;34m()\u001b[0m\n\u001b[0;32m----> 1\u001b[0;31m \u001b[0mmaria\u001b[0m\u001b[0;34m.\u001b[0m\u001b[0mfala\u001b[0m\u001b[0;34m(\u001b[0m\u001b[0;34m'Olá'\u001b[0m\u001b[0;34m)\u001b[0m\u001b[0;34m\u001b[0m\u001b[0;34m\u001b[0m\u001b[0m\n\u001b[0m",
            "\u001b[0;31mAttributeError\u001b[0m: 'Pessoa' object has no attribute 'fala'"
          ]
        }
      ]
    },
    {
      "cell_type": "markdown",
      "source": [
        "Vamos criar um método que altera diretamente um atributo:"
      ],
      "metadata": {
        "id": "kSZeol8TDhUp"
      }
    },
    {
      "cell_type": "code",
      "source": [
        "class Pessoa:\n",
        "\n",
        "  def __init__(self, name, age, res):\n",
        "\n",
        "    # inicializar os atributos da classe, que terão valores definidos na instanciação\n",
        "    # como argumentos do método construtor\n",
        "    self.nome = name\n",
        "    self.idade = age\n",
        "    self.residencia = res\n",
        "\n",
        "    # inicializar alguns atributos cujos valores são fixados\n",
        "    self.num_filhos = 0\n",
        "    self.profissao = None\n",
        "    self.salario = 0\n",
        "\n",
        "  # definindo outros métodos da classe\n",
        "  def fala(self, mensagem):\n",
        "    print(f\"{self.nome} diz: '{mensagem}'\")\n",
        "\n",
        "  def consegue_emprego(self, prof, valor_salario):\n",
        "    self.profissao = prof\n",
        "    self.salario = valor_salario\n",
        "\n",
        "  def aumenta_salario(self, porcentagem):\n",
        "    '''\n",
        "    porcentagem: float entre 0 e 1, indicando o percentual de aumento de salario\n",
        "    '''\n",
        "    self.salario = self.salario*(1 + porcentagem)"
      ],
      "metadata": {
        "id": "0-U2bFr-Dmfb"
      },
      "execution_count": null,
      "outputs": []
    },
    {
      "cell_type": "code",
      "source": [
        "maria = Pessoa(name=\"Maria\", age=18, res=\"Paris\")\n",
        "\n",
        "print(maria.profissao, maria.salario)\n",
        "\n",
        "maria.consegue_emprego(\"cientista de dados\", 7000)\n",
        "\n",
        "print(maria.profissao, maria.salario)\n",
        "\n",
        "maria.aumenta_salario(0.2)\n",
        "\n",
        "print(maria.profissao, maria.salario)"
      ],
      "metadata": {
        "colab": {
          "base_uri": "https://localhost:8080/"
        },
        "id": "wix35u49DvMQ",
        "outputId": "ea4748e9-940d-4245-8c9f-b8a1d50fdde9"
      },
      "execution_count": null,
      "outputs": [
        {
          "output_type": "stream",
          "name": "stdout",
          "text": [
            "None 0\n",
            "cientista de dados 7000\n",
            "cientista de dados 8400.0\n"
          ]
        }
      ]
    },
    {
      "cell_type": "markdown",
      "source": [
        "A este ponto, conseguimos reconhecer que já fizemos muito o uso de métodos e objetos sem termos nos dado conta de sua existência!\n",
        "\n",
        "Por exemplo, para strings, usamos métodos como .upper(), .lower(), .replace(), etc.\n",
        "\n",
        "Para séries do pandas, usamos .mean(), .value_counts(), etc.\n",
        "\n",
        "Isso mostra que str, list e pd.Series são estruturas de classe! E, realmente, eles são! Nos bastidores do Python, muita coisa é feita com classes, sem que ao menos percebamos! E esse é uma das grandes vantagens desses métodos!"
      ],
      "metadata": {
        "id": "nQkLl46LD0wt"
      }
    },
    {
      "cell_type": "code",
      "source": [
        "def calculaArea(x, y):\n",
        "    return x * y\n",
        "class Retangulo:\n",
        "    def __init__(self, area, cor=\"Verde\"):\n",
        "        self.cor = cor\n",
        "        self.area = area\n",
        "meuRetangulo = Retangulo(calculaArea(4, 3), \"Azul\")"
      ],
      "metadata": {
        "id": "16i2O2wfEVtx"
      },
      "execution_count": null,
      "outputs": []
    },
    {
      "cell_type": "code",
      "source": [
        "meuRetangulo.area"
      ],
      "metadata": {
        "colab": {
          "base_uri": "https://localhost:8080/"
        },
        "id": "9KUqzNm0EW2k",
        "outputId": "a5c1afe1-a825-4a09-c1ed-187c64f89f76"
      },
      "execution_count": null,
      "outputs": [
        {
          "output_type": "execute_result",
          "data": {
            "text/plain": [
              "12"
            ]
          },
          "metadata": {},
          "execution_count": 33
        }
      ]
    }
  ]
}