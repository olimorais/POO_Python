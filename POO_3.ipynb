{
  "nbformat": 4,
  "nbformat_minor": 0,
  "metadata": {
    "colab": {
      "provenance": [],
      "toc_visible": true,
      "authorship_tag": "ABX9TyMDYv+cCLlEM25Mu1CYDUV0",
      "include_colab_link": true
    },
    "kernelspec": {
      "name": "python3",
      "display_name": "Python 3"
    },
    "language_info": {
      "name": "python"
    }
  },
  "cells": [
    {
      "cell_type": "markdown",
      "metadata": {
        "id": "view-in-github",
        "colab_type": "text"
      },
      "source": [
        "<a href=\"https://colab.research.google.com/github/olimorais/POO_Python/blob/main/POO_3.ipynb\" target=\"_parent\"><img src=\"https://colab.research.google.com/assets/colab-badge.svg\" alt=\"Open In Colab\"/></a>"
      ]
    },
    {
      "cell_type": "markdown",
      "source": [
        "# Métodos Mágicos\n",
        "\n",
        "Nessa aula, vamos aprofundar o estuda na programção orientada a objeto e aprender sobre os métodos mágicos."
      ],
      "metadata": {
        "id": "WiK7JVCmAScN"
      }
    },
    {
      "cell_type": "markdown",
      "source": [
        "# 1) Métodos Mágicos\n",
        "\n",
        "Como python entende que o sinal \"+\", qunado aplicado a objetos de classe **str** devem **concatenar** as duas strings? E não  fazer algum tipo de operação de soma.\n",
        "\n",
        "Isso é feito a partir dos **métodos mágicos!**\n",
        "\n",
        "Para ilustrar o uso desses métodos, vamos criar uma classe de horário:\n"
      ],
      "metadata": {
        "id": "ZOoJOXhbCCFn"
      }
    },
    {
      "cell_type": "code",
      "source": [
        "class Horario:\n",
        "\n",
        "  def __init__(self,hora,minuto,segundo):\n",
        "\n",
        "    self.h = hora\n",
        "    self.m = minuto\n",
        "    self.s = segundo\n"
      ],
      "metadata": {
        "id": "VU6hi_DUC41q"
      },
      "execution_count": null,
      "outputs": []
    },
    {
      "cell_type": "code",
      "source": [
        "objetoH = Horario(15,12,45)\n",
        "vars(objetoH)"
      ],
      "metadata": {
        "colab": {
          "base_uri": "https://localhost:8080/"
        },
        "id": "s_NVjanxDsK3",
        "outputId": "32adc0a4-0b0a-45f2-b9b3-c7e1fbe502f2"
      },
      "execution_count": null,
      "outputs": [
        {
          "output_type": "execute_result",
          "data": {
            "text/plain": [
              "{'h': 15, 'm': 12, 's': 45}"
            ]
          },
          "metadata": {},
          "execution_count": 3
        }
      ]
    },
    {
      "cell_type": "markdown",
      "source": [
        "### Método de Representação\n",
        "\n",
        "O método  __repr__ é um método mágico que permite dar \"print\" diretamente no objeto, de acordo com o formato estabelecido.  Isto é, chamamos o objeto!\n",
        "\n",
        "Sem definir este método na classe, o print mostra apenas o endereço do método:"
      ],
      "metadata": {
        "id": "ftYWlzFND4Fx"
      }
    },
    {
      "cell_type": "code",
      "source": [
        "objetoH"
      ],
      "metadata": {
        "colab": {
          "base_uri": "https://localhost:8080/"
        },
        "id": "xgJyz8rxEp0V",
        "outputId": "b5ebba74-d48d-4ecd-d192-28d576ff4511"
      },
      "execution_count": null,
      "outputs": [
        {
          "output_type": "execute_result",
          "data": {
            "text/plain": [
              "<__main__.Horario at 0x789b0b7c9c30>"
            ]
          },
          "metadata": {},
          "execution_count": 4
        }
      ]
    },
    {
      "cell_type": "markdown",
      "source": [
        "Mas, se redefinirmos a classe com o método de representação:"
      ],
      "metadata": {
        "id": "AmFKYS-4Etut"
      }
    },
    {
      "cell_type": "code",
      "source": [
        "\"15:12:45\" # representação da hora"
      ],
      "metadata": {
        "id": "CwhDZuFvE1Xg"
      },
      "execution_count": null,
      "outputs": []
    },
    {
      "cell_type": "code",
      "source": [
        "objetoH.h"
      ],
      "metadata": {
        "colab": {
          "base_uri": "https://localhost:8080/"
        },
        "id": "3wsACC_RFjda",
        "outputId": "693d65dd-3100-48f9-e5ba-5eda14a4bf84"
      },
      "execution_count": null,
      "outputs": [
        {
          "output_type": "execute_result",
          "data": {
            "text/plain": [
              "15"
            ]
          },
          "metadata": {},
          "execution_count": 10
        }
      ]
    },
    {
      "cell_type": "code",
      "source": [
        "f\"{objetoH.h}:{objetoH.m}:{objetoH.s}\""
      ],
      "metadata": {
        "colab": {
          "base_uri": "https://localhost:8080/",
          "height": 35
        },
        "id": "Of63_SooFV9B",
        "outputId": "570d458f-c2b9-49f0-af2a-9314c5a06c1b"
      },
      "execution_count": null,
      "outputs": [
        {
          "output_type": "execute_result",
          "data": {
            "text/plain": [
              "'15:12:45'"
            ],
            "application/vnd.google.colaboratory.intrinsic+json": {
              "type": "string"
            }
          },
          "metadata": {},
          "execution_count": 11
        }
      ]
    },
    {
      "cell_type": "markdown",
      "source": [
        "Um método mágico  parecido como __repr__ é o __str__ . Na prática, este método determina o que será exibido pelo \"print\" .\n",
        "\n",
        "Se não definir o __str__, o print vai exibir exatamente o que tá no __repr__ .\n",
        "\n",
        "Mas se tiver ambos definidos temos:\n",
        "\n",
        "* __repr__ exibe a \"chamada\" .\n",
        "\n",
        "* __str__ exibe o print()."
      ],
      "metadata": {
        "id": "UAxVHvf6GHx0"
      }
    },
    {
      "cell_type": "code",
      "source": [
        "class Horario:\n",
        "\n",
        "  def __init__(self,hora,minuto,segundo):\n",
        "\n",
        "    self.h = hora\n",
        "    self.m = minuto\n",
        "    self.s = segundo\n",
        "\n",
        "    # metodo repr, não tem argumento\n",
        "\n",
        "  def __repr__(self):\n",
        "    return f\"{self.h:02d}:{self.m:02d}:{self.s:02d}\"\n",
        "\n",
        "  # metodo str\n",
        "\n",
        "  def __str__ (self):\n",
        "    return f\"O horário é:\\n{self.h:02d}:{self.m:02d}:{self.s:02d}\""
      ],
      "metadata": {
        "id": "xWgX4gDVG4zb"
      },
      "execution_count": null,
      "outputs": []
    },
    {
      "cell_type": "code",
      "source": [
        "agora = Horario(12, 5, 21)"
      ],
      "metadata": {
        "id": "fB-lxm7YHcI_"
      },
      "execution_count": null,
      "outputs": []
    },
    {
      "cell_type": "code",
      "source": [
        "agora"
      ],
      "metadata": {
        "colab": {
          "base_uri": "https://localhost:8080/"
        },
        "id": "UqV0TYcDHqIx",
        "outputId": "a7668023-d21c-4f51-aafa-ca2d63d37a0d"
      },
      "execution_count": null,
      "outputs": [
        {
          "output_type": "execute_result",
          "data": {
            "text/plain": [
              "12:05:21"
            ]
          },
          "metadata": {},
          "execution_count": 18
        }
      ]
    },
    {
      "cell_type": "code",
      "source": [
        "h1 = Horario(4,55,2)"
      ],
      "metadata": {
        "id": "GmjxIQNlI94i"
      },
      "execution_count": null,
      "outputs": []
    },
    {
      "cell_type": "code",
      "source": [
        "# aqui executa o __repr__\n",
        "h1"
      ],
      "metadata": {
        "colab": {
          "base_uri": "https://localhost:8080/"
        },
        "id": "vfpYiNDjJD4J",
        "outputId": "737d6412-41b2-4ef4-e824-4c23464defc5"
      },
      "execution_count": null,
      "outputs": [
        {
          "output_type": "execute_result",
          "data": {
            "text/plain": [
              "04:55:02"
            ]
          },
          "metadata": {},
          "execution_count": 21
        }
      ]
    },
    {
      "cell_type": "code",
      "source": [
        "# aqui executa __str__\n",
        "print(h1)"
      ],
      "metadata": {
        "colab": {
          "base_uri": "https://localhost:8080/"
        },
        "id": "KnUHMpngJYKB",
        "outputId": "da509d82-3de4-4cf4-a9d5-47fbd1d99637"
      },
      "execution_count": null,
      "outputs": [
        {
          "output_type": "stream",
          "name": "stdout",
          "text": [
            "O horário é:\n",
            "04:55:02\n"
          ]
        }
      ]
    },
    {
      "cell_type": "markdown",
      "source": [
        "### Métodos Aritméticos\n",
        "\n",
        "\n",
        "Operadores matemáticos são apenas símbolos: +, -, *, /, etc.\n",
        "\n",
        "A verdade é que esses símbolos são apenas atalhos para métods que operam dois objetos, um à esquerda e outro à direita, retornando o valor correspondente a operação feita.\n",
        "\n",
        "Esses métodos, são os **métodos mágicos aritméticos** , que substituem os símbolos pelas operações definidas dentro da classe.\n",
        "\n",
        "Temos os seguintes métodos mágicos aritméticos:\n",
        "\n",
        "- \\_\\_add\\_\\_:  soma: +\n",
        "- \\_\\_sub\\_\\_:  subtração: -\n",
        "- \\_\\_mul\\_\\_:  multiplicação: *\n",
        "- \\_\\_truediv\\_\\_:  divisão: /\n",
        "- \\_\\_floordiv\\_\\_:  divisão inteira: //\n",
        "- \\_\\_mod\\_\\_:  resto de divisão: %\n",
        "- \\_\\_pow\\_\\_:  potência: **"
      ],
      "metadata": {
        "id": "Rzc5mN0zXbzb"
      }
    },
    {
      "cell_type": "markdown",
      "source": [
        "Então temos a seguinte equivalência:"
      ],
      "metadata": {
        "id": "vJ0mKY7uZPxf"
      }
    },
    {
      "cell_type": "code",
      "source": [
        "n1 = 2\n",
        "n2 = 3\n",
        "# método trivial:\n",
        "x = n1+n2\n",
        "print('Método normal:', x)\n",
        "\n",
        "# método mágico aritmético:\n",
        "\n",
        "x1 = n1.__add__(n2)\n",
        "print('Método Mágico Aritmético:', x1)\n"
      ],
      "metadata": {
        "colab": {
          "base_uri": "https://localhost:8080/"
        },
        "id": "6lOgN9DMZTWp",
        "outputId": "6a03a6af-2507-4342-cd42-3ccfab2f7816"
      },
      "execution_count": null,
      "outputs": [
        {
          "output_type": "stream",
          "name": "stdout",
          "text": [
            "Método normal: 5\n",
            "Método Mágico Aritmético: 5\n"
          ]
        }
      ]
    },
    {
      "cell_type": "markdown",
      "source": [
        "Agora, o uso desses operadores com dados não numéricos não é trivial, mas o Python definiu o funcionamento destes símbolos entre instâncias de diferentes classes!"
      ],
      "metadata": {
        "id": "lLZm0hfXZ0G5"
      }
    },
    {
      "cell_type": "code",
      "source": [
        "string = \"abacate\" + \"abacaxi\"\n",
        "print(string)\n",
        "\n",
        "string1 =  \"abacate\".__add__('abacaxi')\n",
        "print(string1)\n"
      ],
      "metadata": {
        "colab": {
          "base_uri": "https://localhost:8080/"
        },
        "id": "vWd6Av_kZ5VV",
        "outputId": "b7323fe0-8070-4206-a356-208b3b5f95d2"
      },
      "execution_count": null,
      "outputs": [
        {
          "output_type": "stream",
          "name": "stdout",
          "text": [
            "abacateabacaxi\n",
            "abacateabacaxi\n"
          ]
        }
      ]
    },
    {
      "cell_type": "markdown",
      "source": [
        "E, claro, as operações podem não estar definidas entre instâncias de classes diferentes:"
      ],
      "metadata": {
        "id": "-z91LEWda0bI"
      }
    },
    {
      "cell_type": "code",
      "source": [
        "\"ada\" + 2"
      ],
      "metadata": {
        "colab": {
          "base_uri": "https://localhost:8080/",
          "height": 175
        },
        "id": "AJn9xDnPa1Ju",
        "outputId": "9fe85a98-b65b-40ee-cecb-8808d70e1dd9"
      },
      "execution_count": null,
      "outputs": [
        {
          "output_type": "error",
          "ename": "TypeError",
          "evalue": "ignored",
          "traceback": [
            "\u001b[0;31m---------------------------------------------------------------------------\u001b[0m",
            "\u001b[0;31mTypeError\u001b[0m                                 Traceback (most recent call last)",
            "\u001b[0;32m<ipython-input-25-eb21d156b5fb>\u001b[0m in \u001b[0;36m<cell line: 1>\u001b[0;34m()\u001b[0m\n\u001b[0;32m----> 1\u001b[0;31m \u001b[0;34m\"ada\"\u001b[0m \u001b[0;34m+\u001b[0m \u001b[0;36m2\u001b[0m\u001b[0;34m\u001b[0m\u001b[0;34m\u001b[0m\u001b[0m\n\u001b[0m",
            "\u001b[0;31mTypeError\u001b[0m: can only concatenate str (not \"int\") to str"
          ]
        }
      ]
    },
    {
      "cell_type": "code",
      "source": [
        "\"ada\".__add__(2)"
      ],
      "metadata": {
        "colab": {
          "base_uri": "https://localhost:8080/",
          "height": 175
        },
        "id": "skrFEhpRa3vD",
        "outputId": "ac0cb467-2fc9-44e2-9bc4-2037d3ddfee1"
      },
      "execution_count": null,
      "outputs": [
        {
          "output_type": "error",
          "ename": "TypeError",
          "evalue": "ignored",
          "traceback": [
            "\u001b[0;31m---------------------------------------------------------------------------\u001b[0m",
            "\u001b[0;31mTypeError\u001b[0m                                 Traceback (most recent call last)",
            "\u001b[0;32m<ipython-input-26-5b1a9a78a02c>\u001b[0m in \u001b[0;36m<cell line: 1>\u001b[0;34m()\u001b[0m\n\u001b[0;32m----> 1\u001b[0;31m \u001b[0;34m\"ada\"\u001b[0m\u001b[0;34m.\u001b[0m\u001b[0m__add__\u001b[0m\u001b[0;34m(\u001b[0m\u001b[0;36m2\u001b[0m\u001b[0;34m)\u001b[0m\u001b[0;34m\u001b[0m\u001b[0;34m\u001b[0m\u001b[0m\n\u001b[0m",
            "\u001b[0;31mTypeError\u001b[0m: can only concatenate str (not \"int\") to str"
          ]
        }
      ]
    },
    {
      "cell_type": "markdown",
      "source": [
        "A definição destes métodos mágicos para os tipos nativos do Python é feita nativamente.\n",
        "\n",
        "Mas a boa notícia é que podemos implementar métodos mágicos para qualquer classe que venhamos a criar!"
      ],
      "metadata": {
        "id": "4lK1ZkJia6_n"
      }
    },
    {
      "cell_type": "markdown",
      "source": [
        "Vamos, a seguir, definir um método de soma de horas na nossa classe, que vai ser chamado pelo operador aritmético \"+\" (ou seja, será o método `__add__`)."
      ],
      "metadata": {
        "id": "NHRSSTYKa_U4"
      }
    },
    {
      "cell_type": "code",
      "source": [
        "class Horario:\n",
        "\n",
        "  def __init__(self, hora, min, seg):\n",
        "\n",
        "    self.h = hora\n",
        "    self.m = min\n",
        "    self.s = seg\n",
        "\n",
        "  def __repr__(self):\n",
        "\n",
        "    return f\"{self.h:02d}:{self.m:02d}:{self.s:02d}\"\n",
        "\n",
        "\n",
        "  def __str__(self):\n",
        "\n",
        "    return f\"{self.h:02d}:{self.m:02d}:{self.s:02d}\"\n",
        "\n",
        "  def __add__(self, other):\n",
        "\n",
        "    se = self.s + other.s\n",
        "    mi = self.m + other.m\n",
        "    ho = self.h + other.h\n",
        "\n",
        "    if se >= 60:\n",
        "      mi += 1\n",
        "      # mi = mi + 1\n",
        "\n",
        "      se -= 60\n",
        "      # se = se - 60\n",
        "\n",
        "    if mi >= 60:\n",
        "      ho += 1\n",
        "      mi -= 60\n",
        "\n",
        "    if ho >= 24:\n",
        "      ho -= 24\n",
        "\n",
        "    return Horario(ho, mi, se)\n"
      ],
      "metadata": {
        "id": "7XW0veGobD1E"
      },
      "execution_count": null,
      "outputs": []
    },
    {
      "cell_type": "code",
      "source": [
        "h1 = Horario(9, 27, 42)\n",
        "h2 = Horario(7, 38, 41)"
      ],
      "metadata": {
        "id": "T1qbDDurdzkC"
      },
      "execution_count": null,
      "outputs": []
    },
    {
      "cell_type": "code",
      "source": [
        "h1"
      ],
      "metadata": {
        "colab": {
          "base_uri": "https://localhost:8080/"
        },
        "id": "st0fQvTDd4kB",
        "outputId": "fe0fb82c-fbd5-4f02-fc1b-5364c840c28b"
      },
      "execution_count": null,
      "outputs": [
        {
          "output_type": "execute_result",
          "data": {
            "text/plain": [
              "09:27:42"
            ]
          },
          "metadata": {},
          "execution_count": 29
        }
      ]
    },
    {
      "cell_type": "code",
      "source": [
        "h2"
      ],
      "metadata": {
        "colab": {
          "base_uri": "https://localhost:8080/"
        },
        "id": "d6DTOG7Od68i",
        "outputId": "64930bfa-13dc-46f9-d957-78183eb25294"
      },
      "execution_count": null,
      "outputs": [
        {
          "output_type": "execute_result",
          "data": {
            "text/plain": [
              "07:38:41"
            ]
          },
          "metadata": {},
          "execution_count": 30
        }
      ]
    },
    {
      "cell_type": "code",
      "source": [
        "h1 = Horario(9, 27, 42)\n",
        "h2 = Horario(7, 38, 41)\n",
        "\n",
        "h3 = h1 + h2\n",
        "\n",
        "print(f\"Entrei às {h1}\\nTrabalhei por {h2}\\nVou sair às {h3}\")"
      ],
      "metadata": {
        "colab": {
          "base_uri": "https://localhost:8080/"
        },
        "id": "Ogd8JqjbeB1S",
        "outputId": "19145ea7-deaf-4b2e-ab30-69b32164423e"
      },
      "execution_count": null,
      "outputs": [
        {
          "output_type": "stream",
          "name": "stdout",
          "text": [
            "Entrei às 09:27:42\n",
            "Trabalhei por 07:38:41\n",
            "Vou sair às 17:06:23\n"
          ]
        }
      ]
    },
    {
      "cell_type": "markdown",
      "source": [
        "### Métodos Mágicos Lógicos\n",
        "\n",
        "\n",
        "Da mesma forma que há metódos mágicos para operações aritméticas, há também para **operações lógicas!**\n",
        "\n",
        "Conhecemos alguns exemplos implementados pros tipos nativos:"
      ],
      "metadata": {
        "id": "NC8mDBZZeHtm"
      }
    },
    {
      "cell_type": "code",
      "source": [
        "2 > 3"
      ],
      "metadata": {
        "colab": {
          "base_uri": "https://localhost:8080/"
        },
        "id": "RBDt_X_HeRXi",
        "outputId": "483fb925-0998-479d-d2a3-1afdffa069c1"
      },
      "execution_count": null,
      "outputs": [
        {
          "output_type": "execute_result",
          "data": {
            "text/plain": [
              "False"
            ]
          },
          "metadata": {},
          "execution_count": 32
        }
      ]
    },
    {
      "cell_type": "code",
      "source": [
        "\"abacate\" > \"abacaxi\""
      ],
      "metadata": {
        "colab": {
          "base_uri": "https://localhost:8080/"
        },
        "id": "S00a1LuUeTh0",
        "outputId": "7974e6d8-6eeb-40a6-e40f-9b9fd9966f83"
      },
      "execution_count": null,
      "outputs": [
        {
          "output_type": "execute_result",
          "data": {
            "text/plain": [
              "False"
            ]
          },
          "metadata": {},
          "execution_count": 33
        }
      ]
    },
    {
      "cell_type": "markdown",
      "source": [
        "Os métodos lógicos correspondentes a estes operadores são:\n",
        "\n",
        "- \\_\\_gt\\__: maior que (greater than): >\n",
        "- \\_\\_ge\\__: maior ou igual (greater or equal): >=\n",
        "- \\_\\_lt\\__: menor que (less than): <\n",
        "- \\_\\_le\\__: menor ou igual (less or equal): <=\n",
        "- \\_\\_eq\\__: igual (equal): ==\n",
        "- \\_\\_ne\\__: diferente (not equal): !=\n",
        "\n",
        "Ou seja, temos a equivalência, por exemplo:"
      ],
      "metadata": {
        "id": "Tz_yZW8IeYlK"
      }
    },
    {
      "cell_type": "code",
      "source": [
        "\"abacate\".__gt__(\"abacaxi\")"
      ],
      "metadata": {
        "colab": {
          "base_uri": "https://localhost:8080/"
        },
        "id": "eIQNBdz9eb1q",
        "outputId": "e4e296c8-ddad-423e-805d-bb1360a54c09"
      },
      "execution_count": null,
      "outputs": [
        {
          "output_type": "execute_result",
          "data": {
            "text/plain": [
              "False"
            ]
          },
          "metadata": {},
          "execution_count": 34
        }
      ]
    },
    {
      "cell_type": "markdown",
      "source": [
        "Como fazer um método para comparar dois horários?"
      ],
      "metadata": {
        "id": "I9OjXuBNe2SL"
      }
    },
    {
      "cell_type": "code",
      "source": [
        "class Horario:\n",
        "\n",
        "  def __init__(self, hora, min, seg):\n",
        "\n",
        "    self.h = hora\n",
        "    self.m = min\n",
        "    self.s = seg\n",
        "\n",
        "  def __repr__(self):\n",
        "\n",
        "    return f\"{self.h:02d}:{self.m:02d}:{self.s:02d}\"\n",
        "\n",
        "\n",
        "  def __str__(self):\n",
        "\n",
        "    return f\"{self.h:02d}:{self.m:02d}:{self.s:02d}\"\n",
        "\n",
        "  def __add__(self, other):\n",
        "\n",
        "    se = self.s + other.s\n",
        "    mi = self.m + other.m\n",
        "    ho = self.h + other.h\n",
        "\n",
        "    if se >= 60:\n",
        "      mi += 1\n",
        "      # mi = mi + 1\n",
        "\n",
        "      se -= 60\n",
        "      # se = se - 60\n",
        "\n",
        "    if mi >= 60:\n",
        "      ho += 1\n",
        "      mi -= 60\n",
        "\n",
        "    if ho >= 24:\n",
        "      ho -= 24\n",
        "\n",
        "    return Horario(ho, mi, se)\n",
        "\n",
        "  def __gt__(self, other):\n",
        "\n",
        "    if self.h > other.h:\n",
        "      return True\n",
        "    elif self.h == other.h and self.m > other.m:\n",
        "      return True\n",
        "    elif self.h == other.h and self.m == other.m and self.s > other.s:\n",
        "      return True\n",
        "\n",
        "    return False\n",
        "\n"
      ],
      "metadata": {
        "id": "7cDVW8jWe4vU"
      },
      "execution_count": null,
      "outputs": []
    },
    {
      "cell_type": "code",
      "source": [
        "h1 = Horario(9, 27, 42)\n",
        "h2 = Horario(9, 27, 36)\n",
        "\n",
        "h1 > h2"
      ],
      "metadata": {
        "colab": {
          "base_uri": "https://localhost:8080/"
        },
        "id": "Ivgv-jkcfGqK",
        "outputId": "76d0a927-35fe-410a-bc1e-e72edd3859d5"
      },
      "execution_count": null,
      "outputs": [
        {
          "output_type": "execute_result",
          "data": {
            "text/plain": [
              "True"
            ]
          },
          "metadata": {},
          "execution_count": 36
        }
      ]
    },
    {
      "cell_type": "code",
      "source": [
        "h1 = Horario(9, 27, 42)\n",
        "h2 = Horario(9, 38, 36)\n",
        "\n",
        "h1 > h2"
      ],
      "metadata": {
        "colab": {
          "base_uri": "https://localhost:8080/"
        },
        "id": "qj4x-Pr5fJ_a",
        "outputId": "2843f989-6277-4641-f3c5-7b876b3ee81a"
      },
      "execution_count": null,
      "outputs": [
        {
          "output_type": "execute_result",
          "data": {
            "text/plain": [
              "False"
            ]
          },
          "metadata": {},
          "execution_count": 37
        }
      ]
    },
    {
      "cell_type": "markdown",
      "source": [
        "E, ao definirmos um método mágico, alguns outros também são automaticamente definidos:"
      ],
      "metadata": {
        "id": "KryDeu-mfLpq"
      }
    },
    {
      "cell_type": "code",
      "source": [
        "h1 < h2"
      ],
      "metadata": {
        "colab": {
          "base_uri": "https://localhost:8080/"
        },
        "id": "_hAMNqbFfPG1",
        "outputId": "3e1d4f46-eebb-4c87-9635-7472227b3a4d"
      },
      "execution_count": null,
      "outputs": [
        {
          "output_type": "execute_result",
          "data": {
            "text/plain": [
              "True"
            ]
          },
          "metadata": {},
          "execution_count": 38
        }
      ]
    },
    {
      "cell_type": "code",
      "source": [
        "#Ex) Qual a saída do código?\n",
        "\n",
        "class A:\n",
        "    def __init__(self, x, y):\n",
        "        self.x = x\n",
        "        self.y = y\n",
        "    def __eq__(self, outro):\n",
        "        return self.x == outro.x\n",
        "# clasee A compara os valores de x\n",
        "\n",
        "class B:\n",
        "    def __init__(self, x, y):\n",
        "        self.x = x\n",
        "        self.y = y\n",
        "    def __eq__(self, outro):\n",
        "        return self.y == outro.y\n",
        "# classe B compara os valores de y\n",
        "a = A(x=1, y=2)\n",
        "b = B(x=1, y=3)\n",
        "print(a==b, b==a)"
      ],
      "metadata": {
        "colab": {
          "base_uri": "https://localhost:8080/"
        },
        "id": "4-GWpWqpgQIZ",
        "outputId": "13617a8d-d314-4c5e-ed67-62c245ad2a50"
      },
      "execution_count": null,
      "outputs": [
        {
          "output_type": "stream",
          "name": "stdout",
          "text": [
            "True False\n"
          ]
        }
      ]
    },
    {
      "cell_type": "code",
      "source": [
        "# Ex.) 2 - Qual a saída do algoritmo?\n",
        "\n",
        "class Tolerancia:\n",
        "    def __init__(self, x, tol_minima=3, tol_maxima=6):\n",
        "        self.x = x\n",
        "        self.tol_minima = tol_minima\n",
        "        self.tol_maxima = tol_maxima\n",
        "    def __eq__(self, outro):\n",
        "        return abs(self.x - outro.x) <= self.tol_minima\n",
        "    def __ne__(self, outro):\n",
        "        return abs(self.x - outro.x) >= self.tol_maxima\n",
        "a = Tolerancia(x=10)\n",
        "b = Tolerancia(x=15)\n",
        "print(a==b, a!=b)"
      ],
      "metadata": {
        "colab": {
          "base_uri": "https://localhost:8080/"
        },
        "id": "NwAmU8FVgrz2",
        "outputId": "8c0a23c9-217e-4528-babe-36d4f5f8078e"
      },
      "execution_count": null,
      "outputs": [
        {
          "output_type": "stream",
          "name": "stdout",
          "text": [
            "False False\n"
          ]
        }
      ]
    },
    {
      "cell_type": "markdown",
      "source": [
        " O programa acima define uma classe chamada Tolerancia com o objetivo de comparar objetos levando em consideração uma tolerância.\n",
        "\n",
        " A classe tem um construtor (\\_\\_init\\_\\_) que inicializa instâncias da classe com um valor x e parâmetros opcionais tol_minima e tol_maxima com valores padrão de 3 e 6, respectivamente.\n",
        "\n",
        " Método de Igualdade (\\_\\_eq\\_\\_):Este método substitui o operador de igualdade (==). Ele verifica se a diferença absoluta entre os valores x de duas instâncias é menor ou igual ao parâmetro tol_minima. Se sim, as instâncias são consideradas iguais.\n",
        "\n",
        " Método de Desigualdade (\\_\\_ne\\_\\_):Este método substitui o operador de desigualdade (!=). Ele verifica se a diferença absoluta entre os valores x de duas instâncias é maior ou igual ao parâmetro tol_maxima. Se sim, as instâncias são consideradas diferentes.\n",
        "\n",
        " Duas instâncias (a e b) da classe Tolerancia são criadas com diferentes valores de x.\n",
        "\n",
        " O programa imprime o resultado das comparações de igualdade e desigualdade entre as instâncias a e b. Ele utiliza os métodos \\_\\_eq\\_\\_ e \\_\\_ne\\_\\_ para determinar se as instâncias são iguais (==) ou não iguais (!=) com base nos critérios de tolerância definidos.\n",
        "\n",
        " A saída indica que a não é igual a b com base nos critérios de tolerância definidos."
      ],
      "metadata": {
        "id": "bmr_Es3fhc41"
      }
    },
    {
      "cell_type": "code",
      "source": [],
      "metadata": {
        "id": "YhunIL0Pif_x"
      },
      "execution_count": null,
      "outputs": []
    }
  ]
}